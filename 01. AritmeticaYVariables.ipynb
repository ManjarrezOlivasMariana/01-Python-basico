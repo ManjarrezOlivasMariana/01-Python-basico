{
  "cells": [
    {
      "attachments": {},
      "cell_type": "markdown",
      "metadata": {},
      "source": [
        "# Aritmética y Variables\n",
        "\n",
        "En este JNB se revisará el tema de Aritmética y Variables"
      ]
    },
    {
      "cell_type": "code",
      "execution_count": 3,
      "metadata": {},
      "outputs": [
        {
          "name": "stdout",
          "output_type": "stream",
          "text": [
            "3\n",
            "196.0\n"
          ]
        }
      ],
      "source": [
        "print (1+2)\n",
        "print(((1 + 3) * (9 - 2) / 2) ** 2)"
      ]
    },
    {
      "cell_type": "code",
      "execution_count": 4,
      "metadata": {},
      "outputs": [
        {
          "name": "stdout",
          "output_type": "stream",
          "text": [
            "hello world\n"
          ]
        }
      ],
      "source": [
        "print ('hello world')\n"
      ]
    },
    {
      "cell_type": "code",
      "execution_count": 6,
      "metadata": {},
      "outputs": [
        {
          "name": "stdout",
          "output_type": "stream",
          "text": [
            "3\n",
            "3\n"
          ]
        }
      ],
      "source": [
        "print (1+2)\n",
        "\n",
        "\n",
        "print (2+1)\n",
        "\n",
        "\n"
      ]
    },
    {
      "cell_type": "code",
      "execution_count": 7,
      "metadata": {},
      "outputs": [
        {
          "name": "stdout",
          "output_type": "stream",
          "text": [
            "Nacimientos por minuto: 7.5\n",
            "Nacimientos por día: 10800.0\n"
          ]
        },
        {
          "ename": "NameError",
          "evalue": "name 'q4' is not defined",
          "output_type": "error",
          "traceback": [
            "\u001b[0;31m---------------------------------------------------------------------------\u001b[0m",
            "\u001b[0;31mNameError\u001b[0m                                 Traceback (most recent call last)",
            "Cell \u001b[0;32mIn[7], line 17\u001b[0m\n\u001b[1;32m     15\u001b[0m \u001b[38;5;28mprint\u001b[39m(\u001b[38;5;124mf\u001b[39m\u001b[38;5;124m\"\u001b[39m\u001b[38;5;124mNacimientos por día: \u001b[39m\u001b[38;5;132;01m{\u001b[39;00mbirths_per_day\u001b[38;5;132;01m}\u001b[39;00m\u001b[38;5;124m\"\u001b[39m)\n\u001b[1;32m     16\u001b[0m \u001b[38;5;66;03m# DO NOT REMOVE: Check your answer\u001b[39;00m\n\u001b[0;32m---> 17\u001b[0m \u001b[43mq4\u001b[49m\u001b[38;5;241m.\u001b[39mcheck()\n",
            "\u001b[0;31mNameError\u001b[0m: name 'q4' is not defined"
          ]
        }
      ],
      "source": [
        "num_years = 4\n",
        "days_per_year = 365 \n",
        "hours_per_day = 24\n",
        "mins_per_hour = 60\n",
        "secs_per_min = 60\n",
        "\n",
        "births_per_min=250\n",
        "birth_per_day=(births_per_min*mins_per_hour)\n",
        "# TODO: Set the value of the births_per_min variable\n",
        "births_per_min = 60/8\n",
        "births_per_day = births_per_min * mins_per_hour * hours_per_day\n",
        "# TODO: Set the value of the births_per_day variable\n",
        "births_per_day = births_per_day = births_per_min * mins_per_hour * hours_per_day\n",
        "print(f\"Nacimientos por minuto: {births_per_min}\")\n",
        "print(f\"Nacimientos por día: {births_per_day}\")\n",
        "# DO NOT REMOVE: Check your answer\n",
        "q4.check()"
      ]
    },
    {
      "cell_type": "code",
      "execution_count": null,
      "metadata": {
        "id": "O8NoTzxjs2wK",
        "outputId": "fa4bc249-a4fa-48a6-9dc6-7733646ed223"
      },
      "outputs": [
        {
          "name": "stdout",
          "output_type": "stream",
          "text": [
            "Hello World!\n"
          ]
        }
      ],
      "source": [
        "print(\"Hello World!\")"
      ]
    },
    {
      "cell_type": "code",
      "execution_count": 8,
      "metadata": {},
      "outputs": [
        {
          "name": "stdout",
          "output_type": "stream",
          "text": [
            "0.3838383838383838\n",
            "0.12682379349046016\n"
          ]
        },
        {
          "ename": "NameError",
          "evalue": "name 'q5' is not defined",
          "output_type": "error",
          "traceback": [
            "\u001b[0;31m---------------------------------------------------------------------------\u001b[0m",
            "\u001b[0;31mNameError\u001b[0m                                 Traceback (most recent call last)",
            "Cell \u001b[0;32mIn[8], line 16\u001b[0m\n\u001b[1;32m     13\u001b[0m \u001b[38;5;28mprint\u001b[39m(minors_fraction)\n\u001b[1;32m     15\u001b[0m \u001b[38;5;66;03m# DO NOT REMOVE: Check your answer\u001b[39;00m\n\u001b[0;32m---> 16\u001b[0m \u001b[43mq5\u001b[49m\u001b[38;5;241m.\u001b[39mcheck()\n",
            "\u001b[0;31mNameError\u001b[0m: name 'q5' is not defined"
          ]
        }
      ],
      "source": [
        "total = 891\n",
        "survived = 342\n",
        "minors = 113\n",
        "\n",
        "# Calcula la fracción de pasajeros que sobrevivieron\n",
        "survived_fraction = survived / total\n",
        "# Imprime el valor de la variable\n",
        "print(survived_fraction)\n",
        "\n",
        "# Calcula la fracción de pasajeros que eran menores de edad\n",
        "minors_fraction = minors / total \n",
        "# Imprime el valor de la variable\n",
        "print(minors_fraction)\n",
        "\n",
        "# DO NOT REMOVE: Check your answer\n",
        "q5.check()"
      ]
    }
  ],
  "metadata": {
    "colab": {
      "include_colab_link": true,
      "provenance": []
    },
    "kernelspec": {
      "display_name": "Python 3",
      "language": "python",
      "name": "python3"
    },
    "language_info": {
      "codemirror_mode": {
        "name": "ipython",
        "version": 3
      },
      "file_extension": ".py",
      "mimetype": "text/x-python",
      "name": "python",
      "nbconvert_exporter": "python",
      "pygments_lexer": "ipython3",
      "version": "3.12.1"
    },
    "orig_nbformat": 4
  },
  "nbformat": 4,
  "nbformat_minor": 0
}
